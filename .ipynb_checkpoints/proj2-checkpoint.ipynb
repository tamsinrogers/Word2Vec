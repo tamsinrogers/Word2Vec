{
 "cells": [
  {
   "cell_type": "markdown",
   "id": "159048db",
   "metadata": {},
   "source": [
    "<h1> Project 2:  Python2Vec"
   ]
  },
  {
   "cell_type": "code",
   "execution_count": 76,
   "id": "35ed7a47",
   "metadata": {},
   "outputs": [],
   "source": [
    "import os\n",
    "import json\n",
    "import os\n",
    "from nltk import sent_tokenize\n",
    "from gensim.utils import simple_preprocess\n",
    "import gensim"
   ]
  },
  {
   "cell_type": "markdown",
   "id": "5ed75291",
   "metadata": {},
   "source": [
    "<h3>TASK 1: Download a few Python repositories</h3>\n",
    "\n",
    "<p>Downloaded repositories are located in the 'repos' folder in this project's directory.</p>\n"
   ]
  },
  {
   "cell_type": "markdown",
   "id": "4ed21103",
   "metadata": {},
   "source": [
    "<h3>TASK 2: Using Python, write a small program to crawl through the repositories looking for Python files, such files will have an extension of “.py”.</h3>"
   ]
  },
  {
   "cell_type": "code",
   "execution_count": 42,
   "id": "e64b695f",
   "metadata": {},
   "outputs": [],
   "source": [
    "python_files = \"python_files.txt\"\n",
    "fols = []\n",
    "allPythonFiles = []\n",
    "folders = os.listdir('repos')\n",
    "\n",
    "for folder in folders:\n",
    "    if folder[-5:] == \"-main\":\n",
    "        fols.append(folder)\n",
    "        \n",
    "for i in range(len(fols)):\n",
    "    \n",
    "    theFolder = fols[i]\n",
    "\n",
    "    files = os.listdir(\"repos/\"+theFolder)\n",
    "    files = [f for f in files if os.path.isfile(\"repos/\"+theFolder+'/'+f)] #Filtering only the files\n",
    "\n",
    "    for filename in files:\n",
    "        if filename[-3:] == \".py\":\n",
    "            allPythonFiles.append(filename)"
   ]
  },
  {
   "cell_type": "markdown",
   "id": "6ead0a31",
   "metadata": {},
   "source": [
    "<h3>TASK 3: Aggregate the Python files found into a single text file.</h3>"
   ]
  },
  {
   "cell_type": "code",
   "execution_count": 98,
   "id": "d8a46339",
   "metadata": {},
   "outputs": [
    {
     "name": "stdout",
     "output_type": "stream",
     "text": [
      ".DS_Store/setupext.py\n",
      "False\n",
      "matplotlib-main/setupext.py\n",
      "False\n",
      "scipy-main/setupext.py\n",
      "False\n",
      ".DS_Store/setup.py\n",
      "False\n",
      "matplotlib-main/setup.py\n",
      "False\n",
      "scipy-main/setup.py\n",
      "False\n",
      ".DS_Store/setup.py\n",
      "False\n",
      "matplotlib-main/setup.py\n",
      "False\n",
      "scipy-main/setup.py\n",
      "False\n",
      ".DS_Store/dev.py\n",
      "False\n",
      "matplotlib-main/dev.py\n",
      "False\n",
      "scipy-main/dev.py\n",
      "False\n",
      ".DS_Store/runtests.py\n",
      "False\n",
      "matplotlib-main/runtests.py\n",
      "False\n",
      "scipy-main/runtests.py\n",
      "False\n"
     ]
    }
   ],
   "source": [
    "'''\n",
    "with open(python_files, \"w\") as outfile:\n",
    "    for i in range(len(allPythonFiles)):\n",
    "        outfile.write(allPythonFiles[i]+\"\\n\")\n",
    "'''\n",
    "\n",
    "\n",
    "with open(\"alltext.txt\", \"w+\") as outfile:    \n",
    "    \n",
    "    for file in allPythonFiles:\n",
    "        \n",
    "        for folder in folders:\n",
    "            \n",
    "            p = folder + \"/\" + file\n",
    "            print(p)\n",
    "            print(os.path.isfile(p))\n",
    "            \n",
    "            if (os.path.isfile(p)): # not recognizing .py files as files\n",
    "        \n",
    "                print(f\"adding {p} to output\")\n",
    "                with open (p, \"r\") as infile:\n",
    "                    lines = infile.readlines()\n",
    "                    outfile.writelines(lines)"
   ]
  },
  {
   "cell_type": "markdown",
   "id": "3b670268",
   "metadata": {},
   "source": [
    "<h3>TASK 4: Count the number of lines of code in this file, and the number of tokens (words).</h3>"
   ]
  },
  {
   "cell_type": "code",
   "execution_count": 83,
   "id": "30bd9a1d",
   "metadata": {},
   "outputs": [
    {
     "name": "stdout",
     "output_type": "stream",
     "text": [
      "lines: 5\n",
      "tokens: 10\n"
     ]
    }
   ],
   "source": [
    "file = \"alltext.txt\"\n",
    "\n",
    "file1 = open('alltext.txt', 'r')\n",
    "Lines = file1.readlines()\n",
    "\n",
    "tokens = []\n",
    "\n",
    "f = open(file)\n",
    "corpus = f.read()\n",
    "raw_sent = sent_tokenize(corpus)\n",
    "for sent in raw_sent:\n",
    "    tokens.append(simple_preprocess(sent))\n",
    "\n",
    "\n",
    "print(\"lines: \" + str(len(Lines)))\n",
    "print(\"tokens: \" + str(len(tokens[0])))\n",
    "        "
   ]
  },
  {
   "cell_type": "markdown",
   "id": "6d4f4f5f",
   "metadata": {},
   "source": [
    "<h3>TASK 5: Tokenize the lines by lowercasing everything and splitting on all whitespace and punctuation characters.</h3>"
   ]
  },
  {
   "cell_type": "code",
   "execution_count": 74,
   "id": "25f98bf5",
   "metadata": {},
   "outputs": [
    {
     "name": "stdout",
     "output_type": "stream",
     "text": [
      "[['setupext', 'py', 'setup', 'py', 'setup', 'py', 'dev', 'py', 'runtests', 'py']]\n"
     ]
    }
   ],
   "source": [
    "print(tokens)"
   ]
  },
  {
   "cell_type": "markdown",
   "id": "22f275db",
   "metadata": {},
   "source": [
    "<h3>TASK 6: Train your Gensim Word2Vec model with the tokenized lines of code.</h3>"
   ]
  },
  {
   "cell_type": "code",
   "execution_count": 77,
   "id": "5f5af8ea",
   "metadata": {},
   "outputs": [
    {
     "data": {
      "text/plain": [
       "(2, 50)"
      ]
     },
     "execution_count": 77,
     "metadata": {},
     "output_type": "execute_result"
    }
   ],
   "source": [
    "model = gensim.models.Word2Vec(\n",
    "    window=10,\n",
    "    min_count=2\n",
    ")\n",
    "\n",
    "model.build_vocab(tokens)\n",
    "\n",
    "model.train(tokens, total_examples=model.corpus_count, epochs=model.epochs)"
   ]
  },
  {
   "cell_type": "markdown",
   "id": "08b458fb",
   "metadata": {},
   "source": [
    "<h3>TASK 7: Explore the trained model by examining the closest_words to some Python keywords like “for” and “if.”  </h3> Also explore the similarity of some popular identifier names like “math” and “numpy” in your notebook."
   ]
  },
  {
   "cell_type": "code",
   "execution_count": 78,
   "id": "6a993213",
   "metadata": {},
   "outputs": [
    {
     "ename": "KeyError",
     "evalue": "\"Key 'for' not present\"",
     "output_type": "error",
     "traceback": [
      "\u001b[0;31m---------------------------------------------------------------------------\u001b[0m",
      "\u001b[0;31mKeyError\u001b[0m                                  Traceback (most recent call last)",
      "Cell \u001b[0;32mIn [78], line 1\u001b[0m\n\u001b[0;32m----> 1\u001b[0m \u001b[43mmodel\u001b[49m\u001b[38;5;241;43m.\u001b[39;49m\u001b[43mwv\u001b[49m\u001b[38;5;241;43m.\u001b[39;49m\u001b[43mmost_similar\u001b[49m\u001b[43m(\u001b[49m\u001b[38;5;124;43m'\u001b[39;49m\u001b[38;5;124;43mfor\u001b[39;49m\u001b[38;5;124;43m'\u001b[39;49m\u001b[43m)\u001b[49m\n",
      "File \u001b[0;32m~/Documents/anaconda3/lib/python3.9/site-packages/gensim/models/keyedvectors.py:773\u001b[0m, in \u001b[0;36mKeyedVectors.most_similar\u001b[0;34m(self, positive, negative, topn, clip_start, clip_end, restrict_vocab, indexer)\u001b[0m\n\u001b[1;32m    771\u001b[0m     mean\u001b[38;5;241m.\u001b[39mappend(weight \u001b[38;5;241m*\u001b[39m key)\n\u001b[1;32m    772\u001b[0m \u001b[38;5;28;01melse\u001b[39;00m:\n\u001b[0;32m--> 773\u001b[0m     mean\u001b[38;5;241m.\u001b[39mappend(weight \u001b[38;5;241m*\u001b[39m \u001b[38;5;28;43mself\u001b[39;49m\u001b[38;5;241;43m.\u001b[39;49m\u001b[43mget_vector\u001b[49m\u001b[43m(\u001b[49m\u001b[43mkey\u001b[49m\u001b[43m,\u001b[49m\u001b[43m \u001b[49m\u001b[43mnorm\u001b[49m\u001b[38;5;241;43m=\u001b[39;49m\u001b[38;5;28;43;01mTrue\u001b[39;49;00m\u001b[43m)\u001b[49m)\n\u001b[1;32m    774\u001b[0m     \u001b[38;5;28;01mif\u001b[39;00m \u001b[38;5;28mself\u001b[39m\u001b[38;5;241m.\u001b[39mhas_index_for(key):\n\u001b[1;32m    775\u001b[0m         all_keys\u001b[38;5;241m.\u001b[39madd(\u001b[38;5;28mself\u001b[39m\u001b[38;5;241m.\u001b[39mget_index(key))\n",
      "File \u001b[0;32m~/Documents/anaconda3/lib/python3.9/site-packages/gensim/models/keyedvectors.py:438\u001b[0m, in \u001b[0;36mKeyedVectors.get_vector\u001b[0;34m(self, key, norm)\u001b[0m\n\u001b[1;32m    414\u001b[0m \u001b[38;5;28;01mdef\u001b[39;00m \u001b[38;5;21mget_vector\u001b[39m(\u001b[38;5;28mself\u001b[39m, key, norm\u001b[38;5;241m=\u001b[39m\u001b[38;5;28;01mFalse\u001b[39;00m):\n\u001b[1;32m    415\u001b[0m     \u001b[38;5;124;03m\"\"\"Get the key's vector, as a 1D numpy array.\u001b[39;00m\n\u001b[1;32m    416\u001b[0m \n\u001b[1;32m    417\u001b[0m \u001b[38;5;124;03m    Parameters\u001b[39;00m\n\u001b[0;32m   (...)\u001b[0m\n\u001b[1;32m    436\u001b[0m \n\u001b[1;32m    437\u001b[0m \u001b[38;5;124;03m    \"\"\"\u001b[39;00m\n\u001b[0;32m--> 438\u001b[0m     index \u001b[38;5;241m=\u001b[39m \u001b[38;5;28;43mself\u001b[39;49m\u001b[38;5;241;43m.\u001b[39;49m\u001b[43mget_index\u001b[49m\u001b[43m(\u001b[49m\u001b[43mkey\u001b[49m\u001b[43m)\u001b[49m\n\u001b[1;32m    439\u001b[0m     \u001b[38;5;28;01mif\u001b[39;00m norm:\n\u001b[1;32m    440\u001b[0m         \u001b[38;5;28mself\u001b[39m\u001b[38;5;241m.\u001b[39mfill_norms()\n",
      "File \u001b[0;32m~/Documents/anaconda3/lib/python3.9/site-packages/gensim/models/keyedvectors.py:412\u001b[0m, in \u001b[0;36mKeyedVectors.get_index\u001b[0;34m(self, key, default)\u001b[0m\n\u001b[1;32m    410\u001b[0m     \u001b[38;5;28;01mreturn\u001b[39;00m default\n\u001b[1;32m    411\u001b[0m \u001b[38;5;28;01melse\u001b[39;00m:\n\u001b[0;32m--> 412\u001b[0m     \u001b[38;5;28;01mraise\u001b[39;00m \u001b[38;5;167;01mKeyError\u001b[39;00m(\u001b[38;5;124mf\u001b[39m\u001b[38;5;124m\"\u001b[39m\u001b[38;5;124mKey \u001b[39m\u001b[38;5;124m'\u001b[39m\u001b[38;5;132;01m{\u001b[39;00mkey\u001b[38;5;132;01m}\u001b[39;00m\u001b[38;5;124m'\u001b[39m\u001b[38;5;124m not present\u001b[39m\u001b[38;5;124m\"\u001b[39m)\n",
      "\u001b[0;31mKeyError\u001b[0m: \"Key 'for' not present\""
     ]
    }
   ],
   "source": [
    "model.wv.most_similar('for')\n",
    "model.wv.most_similar('if')\n",
    "model.wv.similarity('math','scipy')"
   ]
  },
  {
   "cell_type": "code",
   "execution_count": null,
   "id": "688df1d9",
   "metadata": {},
   "outputs": [],
   "source": []
  }
 ],
 "metadata": {
  "kernelspec": {
   "display_name": "Python 3 (ipykernel)",
   "language": "python",
   "name": "python3"
  },
  "language_info": {
   "codemirror_mode": {
    "name": "ipython",
    "version": 3
   },
   "file_extension": ".py",
   "mimetype": "text/x-python",
   "name": "python",
   "nbconvert_exporter": "python",
   "pygments_lexer": "ipython3",
   "version": "3.9.12"
  }
 },
 "nbformat": 4,
 "nbformat_minor": 5
}
